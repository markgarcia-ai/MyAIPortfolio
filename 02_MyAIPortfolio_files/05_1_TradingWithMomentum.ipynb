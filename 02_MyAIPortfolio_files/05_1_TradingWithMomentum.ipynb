{
 "cells": [
  {
   "cell_type": "markdown",
   "metadata": {},
   "source": [
    "Load Packages\n"
   ]
  },
  {
   "cell_type": "code",
   "execution_count": null,
   "metadata": {
    "vscode": {
     "languageId": "plaintext"
    }
   },
   "outputs": [],
   "source": [
    "import yfinance as yf\n",
    "import pandas as pd\n",
    "import datetime"
   ]
  },
  {
   "cell_type": "code",
   "execution_count": null,
   "metadata": {
    "vscode": {
     "languageId": "plaintext"
    }
   },
   "outputs": [],
   "source": [
    "def download_sp500_data(start_date, end_date, filename='sp500_data.csv'):\n",
    "    # Define the list of S&P 500 tickers\n",
    "    sp500_tickers = [ticker.symbol for ticker in yf.Tickers(\" \".join(pd.read_html('https://en.wikipedia.org/wiki/List_of_S%26P_500_companies')[0]['Symbol'].tolist())).tickers.values()]\n",
    "\n",
    "    # Initialize an empty DataFrame to store the data\n",
    "    all_data = pd.DataFrame()\n",
    "\n",
    "    # Loop through each ticker and download the data\n",
    "    for ticker in sp500_tickers:\n",
    "        print(f\"Downloading data for {ticker}...\")\n",
    "        data = yf.download(ticker, start=start_date, end=end_date, progress=False)\n",
    "        \n",
    "        # Check if there's any data for the ticker\n",
    "        if not data.empty:\n",
    "            # Reset index and add ticker column\n",
    "            data.reset_index(inplace=True)\n",
    "            data['Ticker'] = ticker\n",
    "            \n",
    "            # Select only relevant columns and rename them as required\n",
    "            data = data[['Date', 'Ticker', 'Adj Close']]\n",
    "            data.rename(columns={'Date': 'date', 'Ticker': 'ticker', 'Adj Close': 'adj_close'}, inplace=True)\n",
    "            \n",
    "            # Append to the main DataFrame\n",
    "            all_data = pd.concat([all_data, data], ignore_index=True)\n",
    "\n",
    "    # Save the data to CSV\n",
    "    all_data.to_csv(filename, index=False)\n",
    "    print(f\"Data saved to {filename}\")\n",
    "\n",
    "# Example usage\n",
    "start_date = (datetime.datetime.now() - datetime.timedelta(days=60)).strftime('%Y-%m-%d')\n",
    "end_date = datetime.datetime.now().strftime('%Y-%m-%d')\n",
    "download_sp500_data(start_date, end_date)"
   ]
  }
 ],
 "metadata": {
  "language_info": {
   "name": "python"
  }
 },
 "nbformat": 4,
 "nbformat_minor": 2
}
